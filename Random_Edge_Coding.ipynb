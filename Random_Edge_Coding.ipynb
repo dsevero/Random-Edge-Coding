{
  "nbformat": 4,
  "nbformat_minor": 0,
  "metadata": {
    "colab": {
      "provenance": [],
      "collapsed_sections": [
        "J9R3l_2Hl-sd",
        "om1uXRNMl8mZ",
        "d_3KRflYl56-"
      ],
      "authorship_tag": "ABX9TyNK2ajq7HF4Qsc82GuOiyNw",
      "include_colab_link": true
    },
    "kernelspec": {
      "name": "python3",
      "display_name": "Python 3"
    },
    "language_info": {
      "name": "python"
    }
  },
  "cells": [
    {
      "cell_type": "markdown",
      "metadata": {
        "id": "view-in-github",
        "colab_type": "text"
      },
      "source": [
        "<a href=\"https://colab.research.google.com/github/dsevero/Random-Edge-Coding/blob/main/Random_Edge_Coding.ipynb\" target=\"_parent\"><img src=\"https://colab.research.google.com/assets/colab-badge.svg\" alt=\"Open In Colab\"/></a>"
      ]
    },
    {
      "cell_type": "markdown",
      "source": [
        "# Random Edge Coding: One-Shot Bits-Back Coding of Large Labeled Graphs\n",
        "\n",
        "- https://github.com/dsevero/Random-Edge-Coding\n",
        "- https://arxiv.org/abs/2305.09705\n"
      ],
      "metadata": {
        "id": "0EOHNQBTn_Of"
      }
    },
    {
      "cell_type": "markdown",
      "source": [
        "# Setup (run this first)"
      ],
      "metadata": {
        "id": "X4mixvXKvtjz"
      }
    },
    {
      "cell_type": "markdown",
      "source": [
        "## Clone repo"
      ],
      "metadata": {
        "id": "J9R3l_2Hl-sd"
      }
    },
    {
      "cell_type": "code",
      "execution_count": null,
      "metadata": {
        "id": "q6GEXT7-kwmy"
      },
      "outputs": [],
      "source": [
        "!git clone https://github.com/dsevero/Random-Edge-Coding.git\n",
        "%cd Random-Edge-Coding/"
      ]
    },
    {
      "cell_type": "markdown",
      "source": [
        "## Install dependencies and Random Edge Coding"
      ],
      "metadata": {
        "id": "om1uXRNMl8mZ"
      }
    },
    {
      "cell_type": "code",
      "source": [
        "!./install_dependencies.sh\n",
        "!ln -s craystack_repo/craystack craystack"
      ],
      "metadata": {
        "id": "dc8Jv_q6lKTM"
      },
      "execution_count": null,
      "outputs": []
    },
    {
      "cell_type": "markdown",
      "source": [
        "## Download datasets"
      ],
      "metadata": {
        "id": "d_3KRflYl56-"
      }
    },
    {
      "cell_type": "code",
      "source": [
        "%env DATA_DIR=/content/data\n",
        "!mkdir $DATA_DIR\n",
        "!./download_datasets.sh"
      ],
      "metadata": {
        "id": "tsQISFlqltWg"
      },
      "execution_count": null,
      "outputs": []
    },
    {
      "cell_type": "markdown",
      "source": [
        "# Run Experiments\n",
        "\n",
        "The following cell shows an example of how to run a specific experiment.\n",
        "Optional arguments are discussed below.\n",
        "\n",
        "- For model flags see files in `experiments/encode-decode-graph/configs/`.\n",
        "- Use `--eval_likelihood_only` to only compute the likelihood of the graph, skipping over both encoding and decoding.\n",
        "- Removing `--decode` will skip over decoding.\n",
        "- For a list of available datasets see `AVAILABLE_DATASETS` in `rec/datasets.py`."
      ],
      "metadata": {
        "id": "wc0MC8CymwI9"
      }
    },
    {
      "cell_type": "code",
      "source": [
        "%%shell\n",
        "python -B experiments/encode-decode-graph/run_experiment.py \\\n",
        "    --config=experiments/encode-decode-graph/configs/config_polya.py \\\n",
        "    --config.dataset_name=youtube \\\n",
        "    --decode \\\n",
        "    --config.max_num_edges=10_000 # set this to -1 to encode/decode the full graph."
      ],
      "metadata": {
        "id": "Yai-3VmRl0hZ"
      },
      "execution_count": null,
      "outputs": []
    },
    {
      "cell_type": "markdown",
      "source": [
        "To reproduce all experiments in the paper, run the following cell.\n",
        "\n",
        "\n"
      ],
      "metadata": {
        "id": "lt_QFnjqqGfe"
      }
    },
    {
      "cell_type": "code",
      "source": [
        "%%shell\n",
        "for DATASET_NAME in youtube foursquare digg gowalla skitter dblp; do\n",
        "    python -B experiments/encode-decode-graph/run_experiment.py \\\n",
        "        --config=experiments/encode-decode-graph/configs/config_polya.py \\\n",
        "        --config.dataset_name=$DATASET_NAME \\\n",
        "        --decode\n",
        "done"
      ],
      "metadata": {
        "id": "TI7Ysm6qp7FW"
      },
      "execution_count": null,
      "outputs": []
    },
    {
      "cell_type": "markdown",
      "source": [
        "# How to use Random Edge Coding in your own code"
      ],
      "metadata": {
        "id": "rwJfPLKHhl12"
      }
    },
    {
      "cell_type": "markdown",
      "source": [
        "***DISCLAIMER***: In colab, numpy might raise a runtime error when running the example.\n",
        "\n",
        "To fix it, uncomment the pip command below, run the cell, and restart the kernel."
      ],
      "metadata": {
        "id": "zokCOVPduUEy"
      }
    },
    {
      "cell_type": "code",
      "source": [
        "# pip install numpy --upgrade --ignore-installed"
      ],
      "metadata": {
        "id": "uJ0_2TmBu-Ir"
      },
      "execution_count": null,
      "outputs": []
    },
    {
      "cell_type": "code",
      "source": [
        "import craystack as cs\n",
        "import numpy as np\n",
        "\n",
        "from rec.definitions import Graph\n",
        "from rec.models import PolyasUrnModel\n",
        "\n",
        "def sample_erdos_renyi_graph(num_nodes, p, seed=0):\n",
        "    np.random.seed(seed)\n",
        "    adjacency_matrix = np.triu(np.random.rand(num_nodes, num_nodes) < p, k=1)\n",
        "    edge_array = np.stack(np.nonzero(adjacency_matrix)).T\n",
        "    return Graph(\n",
        "        edge_array=edge_array,\n",
        "        num_nodes=num_nodes,\n",
        "        num_edges=edge_array.shape[0],\n",
        "    )\n",
        "\n",
        "# Sample a graph from the G(n, p) model of Erdős and Rényi.\n",
        "num_nodes = 200\n",
        "p_erdos_renyi = 1/2\n",
        "graph = sample_erdos_renyi_graph(num_nodes, p_erdos_renyi)\n",
        "\n",
        "# Compute the information content of the vertex-sequence and graph\n",
        "# under Pólya's Urn model, normalized by the number of observed edges\n",
        "# in the graph. The information content is equal to the negative log-likelihood\n",
        "# and is the optimal number of bits an algorithm should allocate under the model\n",
        "# to minimize the average number of bits.\n",
        "#\n",
        "# Note the information content of the vertex-sequence is significantly larger\n",
        "# than that of the graph, as it contains the order in which edges were added\n",
        "# to the graph. With Random Edge Coding this redundancy is removed, providing\n",
        "# a substantial bit saving.\n",
        "model = PolyasUrnModel(graph.num_nodes, graph.num_edges, bias=1)\n",
        "seq_bpe, graph_bpe = model.compute_bpe(graph)\n",
        "\n",
        "# Initialize the ANS state, encode the graph, and compute the final message\n",
        "# length. We add 32 extra bits to represent the integer needed to specify the\n",
        "# number of observed edges.\n",
        "ans_state = cs.rans.base_message(shape=(1,))\n",
        "ans_state = model.push(ans_state, graph)\n",
        "rec_bpe = (32 + 32*len(cs.flatten(ans_state)))/graph.num_edges\n",
        "\n",
        "# Decode the graph and assert the graph is recovered losslessly.\n",
        "ans_state, graph_decoded = model.pop(ans_state)\n",
        "assert graph_decoded == graph\n",
        "\n",
        "print(\"\\n\\n------------------RESULTS------------------\")\n",
        "print(f\"BPE of the vertex-sequence under Pólya's Urn (theoretical):\", seq_bpe)\n",
        "print(f\"BPE of the graph under Pólya's Urn (theoretical):\", graph_bpe)\n",
        "print(f\"Random Edge Coding message length in BPE:\", rec_bpe)\n",
        "print(f\"Savings due to Random Edge Coding: {1 - rec_bpe/seq_bpe: .2%}\")"
      ],
      "metadata": {
        "id": "BBQeYe0thiYh"
      },
      "execution_count": null,
      "outputs": []
    }
  ]
}